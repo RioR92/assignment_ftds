{
  "nbformat": 4,
  "nbformat_minor": 0,
  "metadata": {
    "colab": {
      "name": "h8dsft_looping_rio.ipynb",
      "provenance": [],
      "collapsed_sections": []
    },
    "kernelspec": {
      "name": "python3",
      "display_name": "Python 3"
    },
    "language_info": {
      "name": "python"
    }
  },
  "cells": [
    {
      "cell_type": "markdown",
      "source": [
        "#Non-Graded Challenge 1"
      ],
      "metadata": {
        "id": "J53OHCkJenrT"
      }
    },
    {
      "cell_type": "markdown",
      "source": [
        "- Buatlah sebuah list dengan value berupa:\n",
        "numbers = [951, 402, 984, 651, 360, 69, 408, 319, 601, 485, 980, 507, 725, 547, 544, 615, 83, 165, 141, 501, 263, 617, 865, 575, 219, 390, 984, 592, 236, 105, 942, 941, 386, 462, 47, 418, 907, 344, 236, 375, 823, 566, 597, 978, 328, 615, 953, 345, 399, 162, 758, 219, 918, 237, 412, 566, 826, 248, 866, 950, 626, 949]\n",
        "\n",
        "- Loop dan print semua angka genap dari list angka diatas dengan urutan yang sama. \n",
        "\n",
        "- Jangan mencetak angka apapun yang muncul setelah angka 918 berdasarkan posisi angka tersebut pada list diatas.\n",
        "- \\Tampilkan pesan ”Done” setelah looping berakhir.\n"
      ],
      "metadata": {
        "id": "Rt0YJh4CeuMY"
      }
    },
    {
      "cell_type": "code",
      "source": [
        "#NGC 1 R.R"
      ],
      "metadata": {
        "id": "De_koPK-ese_"
      },
      "execution_count": 9,
      "outputs": []
    },
    {
      "cell_type": "code",
      "source": [
        "#membuat list numbers"
      ],
      "metadata": {
        "id": "wUG65FW8fgJX"
      },
      "execution_count": 10,
      "outputs": []
    },
    {
      "cell_type": "code",
      "execution_count": 11,
      "metadata": {
        "id": "85Nl2mK8emWa"
      },
      "outputs": [],
      "source": [
        "numbers = [951, 402, 984, 651, 360, 69, 408, 319, 601, 485, 980, 507, 725, 547, 544, 615, 83, 165, 141, 501, 263, 617, 865, 575, 219, 390, 984, 592, 236, 105, 942, 941, 386, 462, 47, 418, 907, 344, 236, 375, 823, 566, 597, 978, 328, 615, 953, 345, 399, 162, 758, 219, 918, 237, 412, 566, 826, 248, 866, 950, 626, 949]"
      ]
    },
    {
      "cell_type": "code",
      "source": [
        "print(numbers)\n",
        "type(numbers)"
      ],
      "metadata": {
        "colab": {
          "base_uri": "https://localhost:8080/"
        },
        "id": "ct5VLmT8fKVk",
        "outputId": "5654588f-7907-409e-d374-0cc444143024"
      },
      "execution_count": 42,
      "outputs": [
        {
          "output_type": "stream",
          "name": "stdout",
          "text": [
            "[951, 402, 984, 651, 360, 69, 408, 319, 601, 485, 980, 507, 725, 547, 544, 615, 83, 165, 141, 501, 263, 617, 865, 575, 219, 390, 984, 592, 236, 105, 942, 941, 386, 462, 47, 418, 907, 344, 236, 375, 823, 566, 597, 978, 328, 615, 953, 345, 399, 162, 758, 219, 918, 237, 412, 566, 826, 248, 866, 950, 626, 949]\n"
          ]
        },
        {
          "output_type": "execute_result",
          "data": {
            "text/plain": [
              "list"
            ]
          },
          "metadata": {},
          "execution_count": 42
        }
      ]
    },
    {
      "cell_type": "code",
      "source": [
        "#Loop & print angka genap"
      ],
      "metadata": {
        "id": "FZEnXBKafaQv"
      },
      "execution_count": 13,
      "outputs": []
    },
    {
      "cell_type": "code",
      "source": [
        "for i in numbers :\n",
        "  if i % 2 == 0 :\n",
        "    print(i)"
      ],
      "metadata": {
        "colab": {
          "base_uri": "https://localhost:8080/"
        },
        "id": "VHmErKoZfn9N",
        "outputId": "2fcc5025-ea37-4c25-e66e-d65d29ea21ea"
      },
      "execution_count": 16,
      "outputs": [
        {
          "output_type": "stream",
          "name": "stdout",
          "text": [
            "402\n",
            "984\n",
            "360\n",
            "408\n",
            "980\n",
            "544\n",
            "390\n",
            "984\n",
            "592\n",
            "236\n",
            "942\n",
            "386\n",
            "462\n",
            "418\n",
            "344\n",
            "236\n",
            "566\n",
            "978\n",
            "328\n",
            "162\n",
            "758\n",
            "918\n",
            "412\n",
            "566\n",
            "826\n",
            "248\n",
            "866\n",
            "950\n",
            "626\n"
          ]
        }
      ]
    },
    {
      "cell_type": "code",
      "source": [
        "#Jangan mencetak angka apapun yang muncul setelah angka 918 (ganjil & genap)"
      ],
      "metadata": {
        "id": "zhq5JVESgBHk"
      },
      "execution_count": 17,
      "outputs": []
    },
    {
      "cell_type": "code",
      "source": [
        "for i in numbers :\n",
        "  if i in [237]:\n",
        "    break\n",
        "  print(i)"
      ],
      "metadata": {
        "colab": {
          "base_uri": "https://localhost:8080/"
        },
        "id": "Jqb_eld6gmHp",
        "outputId": "1312c577-e65e-43e2-e7eb-52be0ce7f898"
      },
      "execution_count": 26,
      "outputs": [
        {
          "output_type": "stream",
          "name": "stdout",
          "text": [
            "951\n",
            "402\n",
            "984\n",
            "651\n",
            "360\n",
            "69\n",
            "408\n",
            "319\n",
            "601\n",
            "485\n",
            "980\n",
            "507\n",
            "725\n",
            "547\n",
            "544\n",
            "615\n",
            "83\n",
            "165\n",
            "141\n",
            "501\n",
            "263\n",
            "617\n",
            "865\n",
            "575\n",
            "219\n",
            "390\n",
            "984\n",
            "592\n",
            "236\n",
            "105\n",
            "942\n",
            "941\n",
            "386\n",
            "462\n",
            "47\n",
            "418\n",
            "907\n",
            "344\n",
            "236\n",
            "375\n",
            "823\n",
            "566\n",
            "597\n",
            "978\n",
            "328\n",
            "615\n",
            "953\n",
            "345\n",
            "399\n",
            "162\n",
            "758\n",
            "219\n",
            "918\n"
          ]
        }
      ]
    },
    {
      "cell_type": "code",
      "source": [
        "#Jangan mencetak angka apapun yang muncul setelah angka 918 (genap saja)"
      ],
      "metadata": {
        "id": "XS4xJkbQgv64"
      },
      "execution_count": 24,
      "outputs": []
    },
    {
      "cell_type": "code",
      "source": [
        "for i in numbers :\n",
        "   if i in [237] :\n",
        "    break \n",
        "   if i % 2 == 0 :  \n",
        "     print(i)"
      ],
      "metadata": {
        "colab": {
          "base_uri": "https://localhost:8080/"
        },
        "id": "4ZbuO1OahGkJ",
        "outputId": "a5c685f8-b8d4-4ca5-a2ee-edc92b53e597"
      },
      "execution_count": 39,
      "outputs": [
        {
          "output_type": "stream",
          "name": "stdout",
          "text": [
            "402\n",
            "984\n",
            "360\n",
            "408\n",
            "980\n",
            "544\n",
            "390\n",
            "984\n",
            "592\n",
            "236\n",
            "942\n",
            "386\n",
            "462\n",
            "418\n",
            "344\n",
            "236\n",
            "566\n",
            "978\n",
            "328\n",
            "162\n",
            "758\n",
            "918\n"
          ]
        }
      ]
    },
    {
      "cell_type": "code",
      "source": [
        "#Tampilkan pesan ”Done” setelah looping berakhir."
      ],
      "metadata": {
        "id": "hrJqktnqjGdo"
      },
      "execution_count": 40,
      "outputs": []
    },
    {
      "cell_type": "code",
      "source": [
        "for i in numbers :\n",
        "   if i in [237] :\n",
        "    break \n",
        "   if i % 2 == 0 :  \n",
        "     print(i)\n",
        "print('done')"
      ],
      "metadata": {
        "colab": {
          "base_uri": "https://localhost:8080/"
        },
        "id": "K3KENYfnjmWE",
        "outputId": "3d535439-0462-48b7-d504-38b8084b5cef"
      },
      "execution_count": 41,
      "outputs": [
        {
          "output_type": "stream",
          "name": "stdout",
          "text": [
            "402\n",
            "984\n",
            "360\n",
            "408\n",
            "980\n",
            "544\n",
            "390\n",
            "984\n",
            "592\n",
            "236\n",
            "942\n",
            "386\n",
            "462\n",
            "418\n",
            "344\n",
            "236\n",
            "566\n",
            "978\n",
            "328\n",
            "162\n",
            "758\n",
            "918\n",
            "done\n"
          ]
        }
      ]
    },
    {
      "cell_type": "code",
      "source": [
        ""
      ],
      "metadata": {
        "id": "AF3z2RZujvw_"
      },
      "execution_count": null,
      "outputs": []
    }
  ]
}